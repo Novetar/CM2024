{
 "cells": [
  {
   "cell_type": "markdown",
   "metadata": {},
   "source": [
    "# CM3 Pandas Opdrachten\n",
    "\n",
    "In dit notebook vind je de volgende opdrachten\n",
    "- [Opdracht 1 - Series](#Opdracht-1-Series)\n",
    "- [Opdracht 2 - Dataframe](#Opdracht-2-Dataframe)\n",
    "- [Opdracht 3 - Cijfers](#Opdracht-3-Cijfers)\n",
    "- [Opdracht 4 - datetime](#Opdracht-4-datetime)\n"
   ]
  },
  {
   "cell_type": "markdown",
   "metadata": {},
   "source": [
    "## Opdracht 1 Series"
   ]
  },
  {
   "cell_type": "code",
   "execution_count": 145,
   "metadata": {},
   "outputs": [],
   "source": [
    "import pandas as pd\n",
    "import numpy as np"
   ]
  },
  {
   "cell_type": "code",
   "execution_count": 146,
   "metadata": {},
   "outputs": [
    {
     "data": {
      "text/plain": [
       "DS     7.0\n",
       "IAC    6.5\n",
       "NET    9.0\n",
       "dtype: float64"
      ]
     },
     "execution_count": 146,
     "metadata": {},
     "output_type": "execute_result"
    }
   ],
   "source": [
    "#values = [7.0, 6.5, 9.0, 8.0]\n",
    "#index = [ 'DS', 'IAC', 'NET', 'IAC']\n",
    "values = [7.0, 6.5, 9.0]\n",
    "index = [ 'DS', 'IAC', 'NET']\n",
    "cijfers = pd.Series(values, index=index)\n",
    "cijfers"
   ]
  },
  {
   "cell_type": "markdown",
   "metadata": {},
   "source": [
    "- Haal het cijfer 6.5 op uit de Series door middel van:\n",
    "  1. de expliciete key methode\n",
    "  2. de impliciete key methode\n",
    "  3. rechtstreeks met de expliciete key\n",
    "  4. rechtstreeks met de impliciete key"
   ]
  },
  {
   "cell_type": "code",
   "execution_count": 147,
   "metadata": {
    "tags": [
     "student"
    ]
   },
   "outputs": [
    {
     "name": "stdout",
     "output_type": "stream",
     "text": [
      "6.5\n",
      "6.5\n",
      "6.5\n",
      "6.5\n"
     ]
    },
    {
     "name": "stderr",
     "output_type": "stream",
     "text": [
      "C:\\Users\\Anwender\\AppData\\Local\\Temp\\ipykernel_3164\\2833982534.py:12: FutureWarning: Series.__getitem__ treating keys as positions is deprecated. In a future version, integer keys will always be treated as labels (consistent with DataFrame behavior). To access a value by position, use `ser.iloc[pos]`\n",
      "  print(cijfers[1])\n"
     ]
    }
   ],
   "source": [
    "# Explieciete key methode\n",
    "print(cijfers.loc['IAC'])\n",
    "\n",
    "# Impliciete key methode\n",
    "print(cijfers.iloc[1])\n",
    "\n",
    "# Rechtsreeks met de expliciete key\n",
    "print(cijfers['IAC'])\n",
    "\n",
    "# Rechtsreeks met impliciete key\n",
    "# Geeft een waarschuwing. Beter om .iloc[1] te bebruiken.\n",
    "print(cijfers[1])"
   ]
  },
  {
   "cell_type": "markdown",
   "metadata": {},
   "source": [
    "- Retourneer de cijfers van de laatste twee vakken uit de Series."
   ]
  },
  {
   "cell_type": "code",
   "execution_count": 148,
   "metadata": {
    "tags": [
     "student"
    ]
   },
   "outputs": [
    {
     "name": "stdout",
     "output_type": "stream",
     "text": [
      "IAC    6.5\n",
      "NET    9.0\n",
      "dtype: float64\n"
     ]
    }
   ],
   "source": [
    "print(cijfers[-2:])"
   ]
  },
  {
   "cell_type": "markdown",
   "metadata": {},
   "source": [
    "- Bepaal gemiddelde, mediaan, minimum en maximum van de cijfers."
   ]
  },
  {
   "cell_type": "code",
   "execution_count": 149,
   "metadata": {
    "tags": [
     "student"
    ]
   },
   "outputs": [
    {
     "name": "stdout",
     "output_type": "stream",
     "text": [
      "7.5\n",
      "7.0\n",
      "9.0\n",
      "\n",
      "count    3.000000\n",
      "mean     7.500000\n",
      "std      1.322876\n",
      "min      6.500000\n",
      "25%      6.750000\n",
      "50%      7.000000\n",
      "75%      8.000000\n",
      "max      9.000000\n",
      "dtype: float64\n"
     ]
    }
   ],
   "source": [
    "# Gemiddelde\n",
    "print(np.average(cijfers))\n",
    "\n",
    "# Mediaan\n",
    "print(np.median(cijfers))\n",
    "\n",
    "# Maximum\n",
    "print(np.max(cijfers))\n",
    "\n",
    "# Of via describe method\n",
    "print()\n",
    "print(cijfers.describe())"
   ]
  },
  {
   "cell_type": "markdown",
   "metadata": {},
   "source": [
    "## Opdracht 2 Dataframe "
   ]
  },
  {
   "cell_type": "code",
   "execution_count": 150,
   "metadata": {},
   "outputs": [
    {
     "data": {
      "text/html": [
       "<div>\n",
       "<style scoped>\n",
       "    .dataframe tbody tr th:only-of-type {\n",
       "        vertical-align: middle;\n",
       "    }\n",
       "\n",
       "    .dataframe tbody tr th {\n",
       "        vertical-align: top;\n",
       "    }\n",
       "\n",
       "    .dataframe thead th {\n",
       "        text-align: right;\n",
       "    }\n",
       "</style>\n",
       "<table border=\"1\" class=\"dataframe\">\n",
       "  <thead>\n",
       "    <tr style=\"text-align: right;\">\n",
       "      <th></th>\n",
       "      <th>Nummer</th>\n",
       "      <th>Naam</th>\n",
       "      <th>Tentamen</th>\n",
       "      <th>Opdracht</th>\n",
       "    </tr>\n",
       "  </thead>\n",
       "  <tbody>\n",
       "    <tr>\n",
       "      <th>0</th>\n",
       "      <td>s1</td>\n",
       "      <td>Joop</td>\n",
       "      <td>99.9</td>\n",
       "      <td>7.5</td>\n",
       "    </tr>\n",
       "    <tr>\n",
       "      <th>1</th>\n",
       "      <td>s2</td>\n",
       "      <td>Piet</td>\n",
       "      <td>8.0</td>\n",
       "      <td>7.0</td>\n",
       "    </tr>\n",
       "    <tr>\n",
       "      <th>2</th>\n",
       "      <td>None</td>\n",
       "      <td>Fout</td>\n",
       "      <td>99.9</td>\n",
       "      <td>99.9</td>\n",
       "    </tr>\n",
       "    <tr>\n",
       "      <th>3</th>\n",
       "      <td>s3</td>\n",
       "      <td>Kees</td>\n",
       "      <td>4.0</td>\n",
       "      <td>6.0</td>\n",
       "    </tr>\n",
       "  </tbody>\n",
       "</table>\n",
       "</div>"
      ],
      "text/plain": [
       "  Nummer  Naam  Tentamen  Opdracht\n",
       "0     s1  Joop      99.9       7.5\n",
       "1     s2  Piet       8.0       7.0\n",
       "2   None  Fout      99.9      99.9\n",
       "3     s3  Kees       4.0       6.0"
      ]
     },
     "execution_count": 150,
     "metadata": {},
     "output_type": "execute_result"
    }
   ],
   "source": [
    "student1 = pd.Series({'Nummer':'s1', 'Naam':'Joop', 'Tentamen':99.9, 'Opdracht': 7.5})\n",
    "student2 = pd.Series({'Nummer':'s2', 'Naam':'Piet', 'Tentamen':8.0, 'Opdracht': 7.0})\n",
    "student3 = pd.Series({'Nummer': None, 'Naam':'Fout', 'Tentamen':99.9, 'Opdracht': 99.9})\n",
    "student4 = pd.Series({'Nummer':'s3', 'Naam':'Kees', 'Tentamen':4.0, 'Opdracht': 6.0})\n",
    "studenten = pd.DataFrame([student1, student2,student3, student4])\n",
    "studenten"
   ]
  },
  {
   "cell_type": "markdown",
   "metadata": {},
   "source": [
    "- Bepaal het totaal aantal niet-bestaande waarden."
   ]
  },
  {
   "cell_type": "code",
   "execution_count": 151,
   "metadata": {
    "tags": [
     "student"
    ]
   },
   "outputs": [
    {
     "name": "stdout",
     "output_type": "stream",
     "text": [
      "Nummer      1\n",
      "Naam        0\n",
      "Tentamen    0\n",
      "Opdracht    0\n",
      "dtype: int64\n"
     ]
    }
   ],
   "source": [
    "# Om het totaal aantal niet bestaande waardes te bepalen gaan we gebruik maken van .isna().sum()\n",
    "print(studenten.isna().sum())"
   ]
  },
  {
   "cell_type": "markdown",
   "metadata": {},
   "source": [
    "- Zet de opdracht- en tentamencijfers met waarde 99.9 om naar NaN waarde"
   ]
  },
  {
   "cell_type": "code",
   "execution_count": 152,
   "metadata": {
    "tags": [
     "student"
    ]
   },
   "outputs": [
    {
     "name": "stdout",
     "output_type": "stream",
     "text": [
      "  Nummer  Naam  Tentamen  Opdracht\n",
      "0     s1  Joop       NaN       7.5\n",
      "1     s2  Piet       8.0       7.0\n",
      "2   None  Fout       NaN       NaN\n",
      "3     s3  Kees       4.0       6.0\n"
     ]
    }
   ],
   "source": [
    "# Vraag: Wat is dan de nieuwe manier om dit te doen?\n",
    "\n",
    "# studenten['Tentamen'][studenten['Tentamen'] == 99.9] = np.nan\n",
    "# studenten['Opdracht'][studenten['Opdracht'] == 99.9] = np.nan\n",
    "\n",
    "studenten.loc[studenten['Tentamen'] == 99.9, 'Tentamen'] = np.nan\n",
    "studenten.loc[studenten['Opdracht'] == 99.9, 'Opdracht'] = np.nan\n",
    "\n",
    "# Zou ook met replace kunnen.\n",
    "\n",
    "print(studenten)"
   ]
  },
  {
   "cell_type": "markdown",
   "metadata": {},
   "source": [
    "- Haal de missing values uit het DataFrame"
   ]
  },
  {
   "cell_type": "code",
   "execution_count": 153,
   "metadata": {
    "tags": [
     "student"
    ]
   },
   "outputs": [
    {
     "name": "stdout",
     "output_type": "stream",
     "text": [
      "  Nummer  Naam  Tentamen  Opdracht\n",
      "1     s2  Piet       8.0       7.0\n",
      "3     s3  Kees       4.0       6.0\n"
     ]
    }
   ],
   "source": [
    "studenten = studenten.dropna(how='any')\n",
    "\n",
    "print(studenten)"
   ]
  },
  {
   "cell_type": "markdown",
   "metadata": {},
   "source": [
    "- Zet `Nummer` als index."
   ]
  },
  {
   "cell_type": "code",
   "execution_count": 154,
   "metadata": {
    "tags": [
     "student"
    ]
   },
   "outputs": [],
   "source": [
    "studenten = studenten.set_index('Nummer')"
   ]
  },
  {
   "cell_type": "markdown",
   "metadata": {},
   "source": [
    "- Het eindcijfer van het vak is 70% tentamen en 30% opdracht; voeg dit als kolom `Eindcijfer` toe"
   ]
  },
  {
   "cell_type": "code",
   "execution_count": 155,
   "metadata": {
    "tags": [
     "student"
    ]
   },
   "outputs": [
    {
     "name": "stdout",
     "output_type": "stream",
     "text": [
      "        Naam  Tentamen  Opdracht  Eindcijfer\n",
      "Nummer                                      \n",
      "s2      Piet       8.0       7.0         7.7\n",
      "s3      Kees       4.0       6.0         4.6\n"
     ]
    }
   ],
   "source": [
    "# Pandas wil graag dat er voor alles .loc wordt gebruikt. Misschien beter om er maar aan te wennen.\n",
    "# studenten.loc[:,'Eindcijfer'] = studenten.loc[:,'Tentamen'] * 0.7 + studenten.loc[:,'Opdracht'] * 0.3\n",
    "studenten['Eindcijfer'] = studenten['Tentamen'] * 0.7 + studenten['Opdracht'] * 0.3\n",
    "\n",
    "print(studenten)"
   ]
  },
  {
   "cell_type": "markdown",
   "metadata": {},
   "source": [
    "- Bepaal het gemiddelde eindcijfer"
   ]
  },
  {
   "cell_type": "code",
   "execution_count": 156,
   "metadata": {
    "tags": [
     "student"
    ]
   },
   "outputs": [
    {
     "name": "stdout",
     "output_type": "stream",
     "text": [
      "6.1499999999999995\n"
     ]
    }
   ],
   "source": [
    "print(np.average(studenten['Eindcijfer']))"
   ]
  },
  {
   "cell_type": "markdown",
   "metadata": {},
   "source": [
    "- Wat geeft `studenten.describe()` weer?"
   ]
  },
  {
   "cell_type": "code",
   "execution_count": 157,
   "metadata": {
    "tags": [
     "student"
    ]
   },
   "outputs": [
    {
     "name": "stdout",
     "output_type": "stream",
     "text": [
      "       Tentamen  Opdracht  Eindcijfer\n",
      "count  2.000000  2.000000    2.000000\n",
      "mean   6.000000  6.500000    6.150000\n",
      "std    2.828427  0.707107    2.192031\n",
      "min    4.000000  6.000000    4.600000\n",
      "25%    5.000000  6.250000    5.375000\n",
      "50%    6.000000  6.500000    6.150000\n",
      "75%    7.000000  6.750000    6.925000\n",
      "max    8.000000  7.000000    7.700000\n"
     ]
    }
   ],
   "source": [
    "# studenten.descire() geeft centrum en spreidingsmaten weer\n",
    "print(studenten.describe())"
   ]
  },
  {
   "cell_type": "markdown",
   "metadata": {},
   "source": [
    "- Selecteer alle namen en cijfers van de studenten met een voldoende als eindcijfer."
   ]
  },
  {
   "cell_type": "code",
   "execution_count": 158,
   "metadata": {
    "tags": [
     "student"
    ]
   },
   "outputs": [
    {
     "name": "stdout",
     "output_type": "stream",
     "text": [
      "        Naam  Tentamen  Opdracht  Eindcijfer\n",
      "Nummer                                      \n",
      "s2      Piet       8.0       7.0         7.7\n"
     ]
    }
   ],
   "source": [
    "print(studenten.loc[studenten['Eindcijfer'] > 5.5])"
   ]
  },
  {
   "cell_type": "markdown",
   "metadata": {},
   "source": [
    "## Opdracht 3 Cijfers\n",
    "\n",
    "Numpy arrays kunnen alleen uniforme waarden bevatten. Pandas arrays kunnen juist meer bevatten. We doen de opdracht in numpy nu in pandas. Tip: maak gebruik van de cheat sheets!\n",
    "\n",
    "Aanvullende bron:\n",
    "-\thttp://nbviewer.jupyter.org/github/justmarkham/pandas-videos/blob/master/pandas.ipynb "
   ]
  },
  {
   "cell_type": "markdown",
   "metadata": {},
   "source": [
    "De blokcoördinator D.O. Cent van blok A, SIE-V2  wil graag de cijfers analyseren en verwerken. het blok bestaat uit 3 vakken, die door 10 studenten gevolgd zijn. Analyse omvat o.a. het bepalen van gemiddelde cijfer, het aantal voldoendes en cursusrendement. De verwerking bestaat uit het corrigeren van de cijfers. \n",
    "\n",
    "\n",
    "In `blokAcijfers.txt` staan de cijfers per vak (naast elkaar staan de vakken, onder elkaar de studenten):\n",
    "\n",
    "vak1 | vak2 | vak3\n",
    "----|-------|------\n",
    "6.5 | 7.3   | 6.4\n",
    "8.0 | 8.0\t| 8.5\n",
    "3.2\t| 4.0\t| 5.0\n",
    "7.9\t| 7.1\t| 3.5\n",
    "7.3\t| 7.8\t| 8.0\n",
    "8.6\t| 8.0\t| 9.0\n",
    "4.0\t| 6.0\t| 5.5\n",
    "7.3\t| 7.8\t| 7.8\n",
    "4.5\t| 5.6\t| 7.7\n",
    "5.0\t| 7.0\t| 7.2\n",
    "\n",
    "In `blokAStudenten.csv` staan de studentgegevens:\n",
    "\n",
    "\"Studentnr\"|\"Naam\"|\"Vooropleiding\"\n",
    "--|--|--\n",
    "1502000|\"Jan Jansen\"|\"HAVO\"\n",
    "1501677|\"Ali ElMoune\"|\"MBO\"\n",
    "1503190|\"Bert de Graaf\"|\"HAVO\"\n",
    "1506700|\"Koos Alberts\"|\"MBO\"\n",
    "1504503|\"Willie Napoli\"|\"MBO\"\n",
    "1507878|\"Jorrit Beeks\"|\"VWO\"\n",
    "1502507|\"Frits Wielenga\"|\"HAVO\"\n",
    "1503684|\"Cornee Nijsten\"|\"VWO\"\n",
    "1503831|\"Sabine Honing\"|\"HAVO\"\n",
    "1506001|\"George Belfore\"|\"HAVO\""
   ]
  },
  {
   "cell_type": "code",
   "execution_count": 159,
   "metadata": {},
   "outputs": [],
   "source": [
    "# Deze imports zijn nodig voor de opdracht.\n",
    "import pandas as pd\n",
    "import numpy as np"
   ]
  },
  {
   "cell_type": "markdown",
   "metadata": {},
   "source": [
    "De docent wil de gegevens in een Jupyter Notebook verwerken.\n",
    "-\tLees tekstbestand: blokAcijfers.txt in, in een dataframe `cijfers`.\n",
    "-\tLaat zien dat de gegevens goed ingelezen zijn.\n",
    "-\tWijzig de kolomnrs in de vaknamen: vakken = ['RAD','ANA', CBA'].\n",
    "-\tToon de dataframe attributen.\n",
    "-\tToon de index gegevens."
   ]
  },
  {
   "cell_type": "code",
   "execution_count": 160,
   "metadata": {
    "tags": [
     "student"
    ]
   },
   "outputs": [
    {
     "name": "stdout",
     "output_type": "stream",
     "text": [
      "   RAD  ANA  CBA\n",
      "0  6.5  7.3  6.4\n",
      "1  8.0  8.0  8.5\n",
      "2  3.2  4.0  5.0\n",
      "3  7.9  7.1  3.5\n",
      "4  7.3  7.8  8.0\n",
      "5  8.6  8.0  9.0\n",
      "6  4.0  6.0  5.5\n",
      "7  7.3  7.8  7.8\n",
      "8  4.5  5.6  7.7\n",
      "9  5.0  7.0  7.2\n",
      "\n",
      "(10, 3)\n",
      "30\n",
      "\n",
      "             RAD        ANA        CBA\n",
      "count  10.000000  10.000000  10.000000\n",
      "mean    6.230000   6.860000   6.860000\n",
      "std     1.902075   1.297176   1.734743\n",
      "min     3.200000   4.000000   3.500000\n",
      "25%     4.625000   6.250000   5.725000\n",
      "50%     6.900000   7.200000   7.450000\n",
      "75%     7.750000   7.800000   7.950000\n",
      "max     8.600000   8.000000   9.000000\n",
      "\n",
      "<class 'pandas.core.frame.DataFrame'>\n",
      "RangeIndex: 10 entries, 0 to 9\n",
      "Data columns (total 3 columns):\n",
      " #   Column  Non-Null Count  Dtype  \n",
      "---  ------  --------------  -----  \n",
      " 0   RAD     10 non-null     float64\n",
      " 1   ANA     10 non-null     float64\n",
      " 2   CBA     10 non-null     float64\n",
      "dtypes: float64(3)\n",
      "memory usage: 372.0 bytes\n",
      "None\n"
     ]
    }
   ],
   "source": [
    "cijfers = pd.read_csv(\"blokAcijfers.txt\", sep=\"\\t\", header=None, names=['RAD', 'ANA', 'CBA'])\n",
    "# OR\n",
    "# cijfers = pd.read_fwf(\"blokAcijfers.txt\", header=None, names=['RAD', 'ANA', 'CBA'])\n",
    "print(cijfers)\n",
    "print()\n",
    "print(cijfers.shape)\n",
    "print(cijfers.size)\n",
    "print()\n",
    "print(cijfers.describe())\n",
    "print()\n",
    "print(cijfers.info())"
   ]
  },
  {
   "cell_type": "markdown",
   "metadata": {},
   "source": [
    "De docent ziet dat er 2 cijfers fout zijn en wil deze corrigeren (NB. Elke regel heeft een numeriek index gelijk aan het regelnummer.)\n",
    "-\t Wijzig de volgende cijfers\t\t\t\t\t\t\t\n",
    "    *\tvak-2, student-3  cijfer 4.0 moet 4.3 worden.\n",
    "    *\tvak-1, student-10, cijfer 5.0 moet 4.8 worden."
   ]
  },
  {
   "cell_type": "code",
   "execution_count": 161,
   "metadata": {
    "tags": [
     "student"
    ]
   },
   "outputs": [
    {
     "name": "stdout",
     "output_type": "stream",
     "text": [
      "   RAD  ANA  CBA\n",
      "0  6.5  7.3  6.4\n",
      "1  8.0  8.0  8.5\n",
      "2  3.2  4.3  5.0\n",
      "3  7.9  7.1  3.5\n",
      "4  7.3  7.8  8.0\n",
      "5  8.6  8.0  9.0\n",
      "6  4.0  6.0  5.5\n",
      "7  7.3  7.8  7.8\n",
      "8  4.5  5.6  7.7\n",
      "9  4.8  7.0  7.2\n"
     ]
    }
   ],
   "source": [
    "cijfers.iloc[2, 1] = 4.3\n",
    "cijfers.iloc[9, 0] = 4.8\n",
    "print(cijfers)"
   ]
  },
  {
   "cell_type": "markdown",
   "metadata": {},
   "source": [
    "De docent wil de studentgegevens ook aan het dataframe toevoegen.\n",
    "-\tLees tekstbestand: `blokAStudenten.csv` in, in een dataframe `studenten`. Let op dat je de juiste instellingen voor sep en header meegeeft.\n",
    "-\tLaat zien dat de gegevens correct zijn ingelezen."
   ]
  },
  {
   "cell_type": "code",
   "execution_count": 162,
   "metadata": {
    "tags": [
     "student"
    ]
   },
   "outputs": [
    {
     "name": "stdout",
     "output_type": "stream",
     "text": [
      "   Studentnr           Naam Vooropleiding\n",
      "0    1502000     Jan Jansen          HAVO\n",
      "1    1501677    Ali ElMoune           MBO\n",
      "2    1503190  Bert de Graaf          HAVO\n",
      "3    1506700   Koos Alberts           MBO\n",
      "4    1504503  Willie Napoli           MBO\n"
     ]
    }
   ],
   "source": [
    "studenten = pd.read_csv(\"blokAStudenten.csv\", sep=\";\")\n",
    "print(studenten.head())"
   ]
  },
  {
   "cell_type": "markdown",
   "metadata": {},
   "source": [
    "Nu gaan we ``studenten`` en ``cijfers`` samenvoegen tot een cijferslijst. We mogen er vanuitgaan dat de volgorde van beiden dezelfde index hebben (hier de rijwaarde 0 t/m 9).\n",
    "-\tCombineer de beide dataframes met behulp van `p.merge()`:\n",
    "    *\tJe kunt hier een inner join gebruiken.\n",
    "    *\tJe kunt van beide zijden de index gebruiken .\n",
    "-\tLaat zien dat de gegevens correct zijn samengevoegd tot één dataframe cijferlijst met de kolommen: `Studentnr`; `Naam`; `Vooropleiding`; `RAD`; `ANA`; en `CBA`."
   ]
  },
  {
   "cell_type": "code",
   "execution_count": 163,
   "metadata": {
    "tags": [
     "student"
    ]
   },
   "outputs": [
    {
     "name": "stdout",
     "output_type": "stream",
     "text": [
      "   Studentnr           Naam Vooropleiding  RAD  ANA  CBA\n",
      "0    1502000     Jan Jansen          HAVO  6.5  7.3  6.4\n",
      "1    1501677    Ali ElMoune           MBO  8.0  8.0  8.5\n",
      "2    1503190  Bert de Graaf          HAVO  3.2  4.3  5.0\n",
      "3    1506700   Koos Alberts           MBO  7.9  7.1  3.5\n",
      "4    1504503  Willie Napoli           MBO  7.3  7.8  8.0\n"
     ]
    }
   ],
   "source": [
    "cijferlijst = studenten.merge(cijfers, how=\"inner\", left_index=True, right_index=True)\n",
    "print(cijferlijst.head())"
   ]
  },
  {
   "cell_type": "markdown",
   "metadata": {},
   "source": [
    "Het is handig om een dataframe een sprekende index te geven:\n",
    "-\tMaak `Studentnr` de rij-index. NB. Gebruik indien nodig de optie `inplace=True`."
   ]
  },
  {
   "cell_type": "code",
   "execution_count": 164,
   "metadata": {},
   "outputs": [
    {
     "name": "stdout",
     "output_type": "stream",
     "text": [
      "                    Naam Vooropleiding  RAD  ANA  CBA\n",
      "Studentnr                                            \n",
      "1502000       Jan Jansen          HAVO  6.5  7.3  6.4\n",
      "1501677      Ali ElMoune           MBO  8.0  8.0  8.5\n",
      "1503190    Bert de Graaf          HAVO  3.2  4.3  5.0\n",
      "1506700     Koos Alberts           MBO  7.9  7.1  3.5\n",
      "1504503    Willie Napoli           MBO  7.3  7.8  8.0\n"
     ]
    }
   ],
   "source": [
    "cijferlijst = cijferlijst.set_index(\"Studentnr\")\n",
    "print(cijferlijst.head())"
   ]
  },
  {
   "cell_type": "markdown",
   "metadata": {},
   "source": [
    "De docent wil wat basisgegevens: minimum, maximum, gemiddelde van de cijfers weten. Het grote voordeel is dat numpy heel goed kan omgaan met de numerieke kolommen van een dataframe. Voorbeeld: het berekenen van het gemiddelde cijfer voor het vak ‘RAD’ kan met de opdracht: `np.mean(cijferlijst['RAD']`.\n",
    "-\tBepaal minimum, maximum en gemiddelde van alle cijfers.\n",
    "-\tBepaal minimum, maximum en gemiddelde van elk vak (3 getallen).\n",
    "-\tBepaal minimum, maximum en gemiddelde van elke student (10 getallen)."
   ]
  },
  {
   "cell_type": "code",
   "execution_count": 165,
   "metadata": {
    "tags": [
     "student"
    ]
   },
   "outputs": [
    {
     "name": "stdout",
     "output_type": "stream",
     "text": [
      "           Grades\n",
      "minimum  3.200000\n",
      "maximum  9.000000\n",
      "average  6.653333\n",
      "\n",
      "          RAD   ANA   CBA\n",
      "minimum  3.20  4.30  3.50\n",
      "maximum  8.60  8.00  9.00\n",
      "average  6.21  6.89  6.86\n",
      "\n",
      "Naam     Jan Jansen  Ali ElMoune  Bert de Graaf  Koos Alberts  Willie Napoli  \\\n",
      "minimum         6.4          8.0            3.2           3.5            7.3   \n",
      "maximum         7.3          8.5            5.0           7.9            8.0   \n",
      "average         6.7          8.2            4.2           6.2            7.7   \n",
      "\n",
      "Naam     Jorrit Beeks  Frits Wielenga  Cornee Nijsten  Sabine Honing  \\\n",
      "minimum           8.0             4.0             7.3            4.5   \n",
      "maximum           9.0             6.0             7.8            7.7   \n",
      "average           8.5             5.2             7.6            5.9   \n",
      "\n",
      "Naam     George Belfore  \n",
      "minimum             4.8  \n",
      "maximum             7.2  \n",
      "average             6.3  \n"
     ]
    },
    {
     "data": {
      "text/plain": [
       "Studentnr\n",
       "1502000    6.733333\n",
       "1501677    8.166667\n",
       "1503190    4.166667\n",
       "1506700    6.166667\n",
       "1504503    7.700000\n",
       "1507878    8.533333\n",
       "1502507    5.166667\n",
       "1503684    7.633333\n",
       "1503831    5.933333\n",
       "1506001    6.333333\n",
       "dtype: float64"
      ]
     },
     "execution_count": 165,
     "metadata": {},
     "output_type": "execute_result"
    }
   ],
   "source": [
    "# For everything\n",
    "grades_headers_columns = [\"Grades\"]\n",
    "grades_headers_rows = [\"minimum\", \"maximum\", \"average\"]\n",
    "grades_data = [[np.min(cijferlijst[[\"RAD\", \"ANA\", \"CBA\"]])], [np.max(cijferlijst[[\"RAD\", \"ANA\", \"CBA\"]])], [np.average(cijferlijst[[\"RAD\", \"ANA\", \"CBA\"]])]]\n",
    "print(pd.DataFrame(grades_data, grades_headers_rows, grades_headers_columns))\n",
    "print()\n",
    "\n",
    "# Per subject\n",
    "subject_headers_columns = [\"RAD\", \"ANA\", \"CBA\"]\n",
    "subject_headers_rows = [\"minimum\", \"maximum\", \"average\"]\n",
    "\n",
    "subject_data = [[np.min(cijferlijst[i]) for i in [\"RAD\", \"ANA\", \"CBA\"]], \n",
    "                [np.max(cijferlijst[i]) for i in [\"RAD\", \"ANA\", \"CBA\"]],\n",
    "                [np.average(cijferlijst[i]) for i in [\"RAD\", \"ANA\", \"CBA\"]]]\n",
    "\n",
    "print(pd.DataFrame(subject_data, subject_headers_rows, subject_headers_columns))\n",
    "print()\n",
    "\n",
    "# Per student\n",
    "student_headers_columns = cijferlijst[\"Naam\"]\n",
    "student_headers_rows = [\"minimum\", \"maximum\", \"average\"]\n",
    "# Clean af :)\n",
    "student_data = [[np.round(np.min(cijferlijst.iloc[i][[\"RAD\", \"ANA\", \"CBA\"]]), 1) for i in range(10)], \n",
    "                [np.round(np.max(cijferlijst.iloc[i][[\"RAD\", \"ANA\", \"CBA\"]]), 1) for i in range(10)], \n",
    "                [np.round(np.average(cijferlijst.iloc[i][[\"RAD\", \"ANA\", \"CBA\"]]), 1) for i in range(10)]]\n",
    "\n",
    "print(pd.DataFrame(student_data, student_headers_rows, student_headers_columns))\n",
    "\n",
    "np.mean(cijferlijst[[\"RAD\", \"ANA\", \"CBA\"]], axis=1)\n"
   ]
  },
  {
   "cell_type": "markdown",
   "metadata": {},
   "source": [
    "Er is een fout gemaakt bij de cijfers van het 1e vak (RAD). Iedere student krijgt 0.5 punt extra erbij.\n",
    "-\tDoe dit met één opdrachtregel."
   ]
  },
  {
   "cell_type": "code",
   "execution_count": 166,
   "metadata": {
    "tags": [
     "student"
    ]
   },
   "outputs": [
    {
     "name": "stdout",
     "output_type": "stream",
     "text": [
      "                     Naam Vooropleiding  RAD  ANA  CBA\n",
      "Studentnr                                             \n",
      "1502000        Jan Jansen          HAVO  7.0  7.3  6.4\n",
      "1501677       Ali ElMoune           MBO  8.5  8.0  8.5\n",
      "1503190     Bert de Graaf          HAVO  3.7  4.3  5.0\n",
      "1506700      Koos Alberts           MBO  8.4  7.1  3.5\n",
      "1504503     Willie Napoli           MBO  7.8  7.8  8.0\n",
      "1507878      Jorrit Beeks           VWO  9.1  8.0  9.0\n",
      "1502507    Frits Wielenga          HAVO  4.5  6.0  5.5\n",
      "1503684    Cornee Nijsten           VWO  7.8  7.8  7.8\n",
      "1503831     Sabine Honing          HAVO  5.0  5.6  7.7\n",
      "1506001    George Belfore          HAVO  5.3  7.0  7.2\n"
     ]
    }
   ],
   "source": [
    "cijferlijst[\"RAD\"] += 0.5\n",
    "print(cijferlijst)"
   ]
  },
  {
   "cell_type": "markdown",
   "metadata": {},
   "source": [
    "De docent wil graag weten of er verschil in studentprestaties is afhankelijk van de vooropleiding. \n",
    "-\tToon voor elk vak het vooropleiding groepsgemiddelde.\n",
    "-\tWat is je conclusie ?"
   ]
  },
  {
   "cell_type": "code",
   "execution_count": 167,
   "metadata": {
    "tags": [
     "student"
    ]
   },
   "outputs": [
    {
     "name": "stdout",
     "output_type": "stream",
     "text": [
      "                  RAD     ANA     CBA\n",
      "              average average average\n",
      "Vooropleiding                        \n",
      "HAVO             5.10    6.04    6.36\n",
      "MBO              8.23    7.63    6.67\n",
      "VWO              8.45    7.90    8.40\n"
     ]
    }
   ],
   "source": [
    "groep_average = cijferlijst.groupby(\"Vooropleiding\")[[\"RAD\", \"ANA\", \"CBA\"]].agg([np.average])\n",
    "print(np.round(groep_average, 2))"
   ]
  },
  {
   "cell_type": "markdown",
   "metadata": {
    "tags": [
     "student"
    ]
   },
   "source": [
    "Conclusie:"
   ]
  },
  {
   "cell_type": "markdown",
   "metadata": {},
   "source": [
    "## Opdracht 4 datetime\n",
    "\n",
    "Maak een Jupyter notebook waarin je met Pandas de volgende casus realiseert: een storingsmedewerker wil graag onderzoeken hoe het weer geweest is op 1 Januari 2017. Hiervoor vraagt hij bij het KNMI de weergegevens op van drie meetstations.\n",
    "\n",
    "Aanvullende bronnen:\n",
    "- http://chrisalbon.com/python/pandas_time_series_basics.html\n",
    "- http://chrisalbon.com/python/date_and_time_basics.html\n",
    "- http://chrisalbon.com/python/pandas_group_by_time.html "
   ]
  },
  {
   "cell_type": "code",
   "execution_count": 168,
   "metadata": {},
   "outputs": [],
   "source": [
    "# Aanvullende imports\n",
    "import datetime as dt\n",
    "import matplotlib.pyplot as pyplot\n",
    "\n",
    "# De data die we gaan gebruiken.\n",
    "data = {'meetpunt': ['De Bilt','Maastricht', 'Leeuwarden',\n",
    "                     'De Bilt','Maastricht', 'Leeuwarden',\n",
    "                     'De Bilt','Maastricht', 'Leeuwarden',\n",
    "                     'De Bilt','Maastricht', 'Leeuwarden'],\n",
    "        'datum': ['2017-01-01 13:00:05.069722', '2017-01-01 13:00:01.119994', '2017-01-01 13:00:07.178768',\n",
    "                  '2017-01-02 13:00:01.043200', '2017-01-02 13:00:03.119401', '2017-01-02 13:00:03.876898',\n",
    "                  '2017-01-03 13:00:03.043450', '2017-01-03 13:00:02.669401', '2017-01-03 13:00:01.321898',\n",
    "                  '2017-01-04 13:00:04.042015', '2017-01-04 13:00:04.321564', '2017-01-04 13:00:04.394866'],\n",
    "        'temperatuur': [-0.3, 1.9, 0.8,\n",
    "                        1.8, 7.1, 5.7,\n",
    "                        2.9, 7.3, 5.1,\n",
    "                        0.1, 6.8, 2.1,]}"
   ]
  },
  {
   "cell_type": "markdown",
   "metadata": {},
   "source": [
    "Bewerk de data zodat deze netjes in een dataframe komt.\n",
    "-\tMaak een dataframe met kolommen: ‘datum’, ‘temperatuur, ‘meetpunt’.\n",
    "-\tMaak van de datum kolom een kolom met datatype datetime."
   ]
  },
  {
   "cell_type": "code",
   "execution_count": 169,
   "metadata": {
    "tags": [
     "student"
    ]
   },
   "outputs": [
    {
     "name": "stdout",
     "output_type": "stream",
     "text": [
      "<class 'pandas.core.frame.DataFrame'>\n",
      "RangeIndex: 12 entries, 0 to 11\n",
      "Data columns (total 3 columns):\n",
      " #   Column       Non-Null Count  Dtype         \n",
      "---  ------       --------------  -----         \n",
      " 0   datum        12 non-null     datetime64[ns]\n",
      " 1   temperatuur  12 non-null     float64       \n",
      " 2   meetpunt     12 non-null     object        \n",
      "dtypes: datetime64[ns](1), float64(1), object(1)\n",
      "memory usage: 420.0+ bytes\n",
      "None\n",
      "                        datum  temperatuur    meetpunt\n",
      "0  2017-01-01 13:00:05.069722         -0.3     De Bilt\n",
      "1  2017-01-01 13:00:01.119994          1.9  Maastricht\n",
      "2  2017-01-01 13:00:07.178768          0.8  Leeuwarden\n",
      "3  2017-01-02 13:00:01.043200          1.8     De Bilt\n",
      "4  2017-01-02 13:00:03.119401          7.1  Maastricht\n",
      "5  2017-01-02 13:00:03.876898          5.7  Leeuwarden\n",
      "6  2017-01-03 13:00:03.043450          2.9     De Bilt\n",
      "7  2017-01-03 13:00:02.669401          7.3  Maastricht\n",
      "8  2017-01-03 13:00:01.321898          5.1  Leeuwarden\n",
      "9  2017-01-04 13:00:04.042015          0.1     De Bilt\n",
      "10 2017-01-04 13:00:04.321564          6.8  Maastricht\n",
      "11 2017-01-04 13:00:04.394866          2.1  Leeuwarden\n"
     ]
    }
   ],
   "source": [
    "# Creates the data frame\n",
    "dataframe = pd.DataFrame(data)\n",
    "# Rearranges the columns\n",
    "dataframe = dataframe.loc[:, [\"datum\", \"temperatuur\", \"meetpunt\"]]\n",
    "# Converts object type to datetime type\n",
    "dataframe[\"datum\"] = pd.to_datetime(dataframe[\"datum\"])\n",
    "\n",
    "print(dataframe.info())\n",
    "print(dataframe)"
   ]
  },
  {
   "cell_type": "markdown",
   "metadata": {},
   "source": [
    "Doe de volgende analyse op de datum gegevens.\n",
    "-\tHaal de eerste datumwaarde uit de tabel.\n",
    "-\tBepaal van de eerste datumwaarden: jaar, maand, dag, uur, minuut en seconde.\n",
    "-\tBepaal het tijdsverschil tussen de 1e en laatste waarde.\n",
    "-\tBepaal van het tijdsverschil het aantal dagen.\n",
    "-\tBepaal van het tijdsverschil het aantal uren."
   ]
  },
  {
   "cell_type": "code",
   "execution_count": 170,
   "metadata": {
    "tags": [
     "student"
    ]
   },
   "outputs": [
    {
     "name": "stdout",
     "output_type": "stream",
     "text": [
      "2017-01-01 13:00:05.069722\n",
      "2017 1 1 13 0 5\n",
      "2 days 23:59:59.325144\n",
      "2\n",
      "23.99972222222222\n"
     ]
    }
   ],
   "source": [
    "# CODE THAT DOES STUFF ----------------------------------------------------------------------------------------------------\n",
    "# Gets the first date from the table\n",
    "first_date = dataframe.iloc[0][\"datum\"]\n",
    "\n",
    "# Gets the year, month, day, hour, minute and seconds\n",
    "year = first_date.year\n",
    "month = first_date.month\n",
    "day = first_date.day\n",
    "hour = first_date.hour\n",
    "minute = first_date.minute\n",
    "second = first_date.second\n",
    "\n",
    "# Calculates time difference (delta) betwee first and last date\n",
    "last_date = dataframe.iloc[-1][\"datum\"]\n",
    "time_difference = last_date - first_date\n",
    "\n",
    "# Gets the days of the time difference\n",
    "td_days = time_difference.days\n",
    "\n",
    "# Gets the hours of the time difference\n",
    "td_hours = time_difference.seconds / 3600\n",
    "\n",
    "\n",
    "# PRINTING ----------------------------------------------------------------------------------------------------------------\n",
    "# Prints the first date\n",
    "print(first_date)\n",
    "\n",
    "# Prints year, month, day, hour, minute, second\n",
    "print(year, month, day, hour, minute, second)\n",
    "\n",
    "# Prints the difference between first and last date\n",
    "print(time_difference)\n",
    "\n",
    "# Prints time difference days\n",
    "print(td_days)\n",
    "\n",
    "# Prints time difference hours\n",
    "print(td_hours)\n"
   ]
  },
  {
   "cell_type": "markdown",
   "metadata": {},
   "source": [
    "De storingsmedewerker wil graag de volgende gegevens van dagen. Daarom is het handig om de dataframe te voorzien van een index. Voer dan de volgende opdrachten uit en verklaar deze.\n",
    "-\tMaak van de datum kolom een index.\n",
    "-\tDe temperaturen op 1 januari.\n",
    "-\tDe temperaturen na 3 januari.\n",
    "-\tDe temperatuur gemiddeld per dag .\n",
    "-\tLeg nu zelf uit wat de functie shift() doet.\n",
    "-\tHaal de datum kolom index weer weg."
   ]
  },
  {
   "cell_type": "code",
   "execution_count": 171,
   "metadata": {},
   "outputs": [
    {
     "name": "stdout",
     "output_type": "stream",
     "text": [
      "                            temperatuur    meetpunt\n",
      "datum                                              \n",
      "2017-01-01 13:00:05.069722         -0.3     De Bilt\n",
      "2017-01-01 13:00:01.119994          1.9  Maastricht\n",
      "2017-01-01 13:00:07.178768          0.8  Leeuwarden\n",
      "2017-01-02 13:00:01.043200          1.8     De Bilt\n",
      "2017-01-02 13:00:03.119401          7.1  Maastricht\n",
      "2017-01-02 13:00:03.876898          5.7  Leeuwarden\n",
      "2017-01-03 13:00:03.043450          2.9     De Bilt\n",
      "2017-01-03 13:00:02.669401          7.3  Maastricht\n",
      "2017-01-03 13:00:01.321898          5.1  Leeuwarden\n",
      "2017-01-04 13:00:04.042015          0.1     De Bilt\n",
      "2017-01-04 13:00:04.321564          6.8  Maastricht\n",
      "2017-01-04 13:00:04.394866          2.1  Leeuwarden\n"
     ]
    }
   ],
   "source": [
    "# Sets datum as row index\n",
    "dataframe = dataframe.set_index(\"datum\")\n",
    "print(dataframe)"
   ]
  },
  {
   "cell_type": "code",
   "execution_count": 172,
   "metadata": {
    "tags": [
     "student"
    ]
   },
   "outputs": [],
   "source": [
    "# Temperature on 1 januari\n",
    "# temp1 = dataframe[\"2017-01-01\":]\n",
    "# temp1 = dataframe.loc[dataframe[\"datum\"] < \"2017-01-02\", [\"datum\", \"temperatuur\"]]\n",
    "# print(temp1)\n",
    "\n",
    "# Temperature after 3 januari\n",
    "# temp2 = dataframe.loc[dataframe[\"datum\"] > \"2017-01-04\"]\n",
    "# print(temp2)\n",
    "\n",
    "# Average temperature per day\n",
    "# temp3 = dataframe.groupby(dataframe[\"datum\"].dt.date)[\"temperatuur\"].agg([np.average])\n",
    "# print(np.round(temp3, 2))\n",
    "\n",
    "# Removes the datum as index. Reverts back to original index.\n",
    "# dataframe = dataframe.reset_index()\n",
    "# print()\n",
    "# print(dataframe)\n",
    "\n",
    "# Er is ook een resample() method."
   ]
  },
  {
   "cell_type": "code",
   "execution_count": 183,
   "metadata": {},
   "outputs": [
    {
     "ename": "NameError",
     "evalue": "name 'NaN' is not defined",
     "output_type": "error",
     "traceback": [
      "\u001b[1;31m---------------------------------------------------------------------------\u001b[0m",
      "\u001b[1;31mNameError\u001b[0m                                 Traceback (most recent call last)",
      "Cell \u001b[1;32mIn[183], line 2\u001b[0m\n\u001b[0;32m      1\u001b[0m a \u001b[38;5;241m=\u001b[39m \u001b[38;5;241m3\u001b[39m; b \u001b[38;5;241m=\u001b[39m \u001b[38;5;241m4\u001b[39m\n\u001b[1;32m----> 2\u001b[0m c \u001b[38;5;241m=\u001b[39m \u001b[38;5;28;01mNone\u001b[39;00m \u001b[38;5;241m/\u001b[39m \u001b[43mNaN\u001b[49m \u001b[38;5;241m/\u001b[39m null;\n\u001b[0;32m      3\u001b[0m \u001b[38;5;28mprint\u001b[39m(a)\n\u001b[0;32m      4\u001b[0m \u001b[38;5;28mprint\u001b[39m(b)\n",
      "\u001b[1;31mNameError\u001b[0m: name 'NaN' is not defined"
     ]
    }
   ],
   "source": []
  },
  {
   "cell_type": "code",
   "execution_count": null,
   "metadata": {},
   "outputs": [],
   "source": []
  }
 ],
 "metadata": {
  "celltoolbar": "Tags",
  "kernelspec": {
   "display_name": "Python 3 (ipykernel)",
   "language": "python",
   "name": "python3"
  },
  "language_info": {
   "codemirror_mode": {
    "name": "ipython",
    "version": 3
   },
   "file_extension": ".py",
   "mimetype": "text/x-python",
   "name": "python",
   "nbconvert_exporter": "python",
   "pygments_lexer": "ipython3",
   "version": "3.12.5"
  }
 },
 "nbformat": 4,
 "nbformat_minor": 4
}
