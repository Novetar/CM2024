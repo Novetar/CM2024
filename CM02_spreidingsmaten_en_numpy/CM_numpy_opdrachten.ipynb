{
 "cells": [
  {
   "cell_type": "markdown",
   "metadata": {},
   "source": [
    "# NumPy Opdrachten\n",
    "\n",
    "In dit notebook vind je de volgende opdrachten:\n",
    "\n",
    "\n",
    "- <a href=\"#np_opdracht1\"> Opdracht 1</a> Maak deze opdracht ter voorbereiding op het college over NumPy.\n",
    "- <a href=\"#np_opdracht2\"> Opdracht 2</a> Hiermee gaan we in het college aan de slag.\n",
    "- <a href=\"#np_opdracht3\"> Opdracht 3</a> Hiermee gaan we in het college aan de slag.\n",
    "- <a href=\"#np_opdracht4\"> Opdracht 4</a> Deze opdracht is facultatief, voor als je meer uitdaging wilt."
   ]
  },
  {
   "cell_type": "markdown",
   "metadata": {
    "tags": []
   },
   "source": [
    "<a id=\"np_opdracht1\"></a>\n",
    "## Opdracht 1 \n",
    "**Maak deze opdracht ter voorbereiding op het college**"
   ]
  },
  {
   "cell_type": "code",
   "execution_count": 34,
   "metadata": {},
   "outputs": [],
   "source": [
    "import numpy as np"
   ]
  },
  {
   "cell_type": "markdown",
   "metadata": {},
   "source": [
    "- Maak een 1D array x aan met de cijfers 0 t/m 5"
   ]
  },
  {
   "cell_type": "code",
   "execution_count": 35,
   "metadata": {
    "tags": [
     "student"
    ]
   },
   "outputs": [
    {
     "name": "stdout",
     "output_type": "stream",
     "text": [
      "[0 1 2 3 4 5]\n",
      "[0 1 2 3 4 5]\n"
     ]
    }
   ],
   "source": [
    "x = np.array([0, 1, 2, 3, 4, 5])\n",
    "print(x)\n",
    "\n",
    "# or\n",
    "y = np.arange(0, 6)\n",
    "print(y)"
   ]
  },
  {
   "cell_type": "markdown",
   "metadata": {},
   "source": [
    "- Laat de vorm (grootte van de dimensies) van de array zien"
   ]
  },
  {
   "cell_type": "code",
   "execution_count": 36,
   "metadata": {
    "tags": [
     "student"
    ]
   },
   "outputs": [
    {
     "name": "stdout",
     "output_type": "stream",
     "text": [
      "(6,)\n",
      "1\n"
     ]
    }
   ],
   "source": [
    "print(x.shape)\n",
    "\n",
    "# or\n",
    "print(x.ndim)"
   ]
  },
  {
   "cell_type": "markdown",
   "metadata": {},
   "source": [
    "- Hervorm de array x tot een 2D array (2, 3) "
   ]
  },
  {
   "cell_type": "code",
   "execution_count": 37,
   "metadata": {
    "tags": [
     "student"
    ]
   },
   "outputs": [
    {
     "name": "stdout",
     "output_type": "stream",
     "text": [
      "[[0 1 2]\n",
      " [3 4 5]]\n"
     ]
    }
   ],
   "source": [
    "x = x.reshape(2, 3)\n",
    "print(x)"
   ]
  },
  {
   "cell_type": "markdown",
   "metadata": {},
   "source": [
    "- Wat is nu de vorm?\n"
   ]
  },
  {
   "cell_type": "code",
   "execution_count": 38,
   "metadata": {
    "tags": [
     "student"
    ]
   },
   "outputs": [
    {
     "data": {
      "text/plain": [
       "(2, 3)"
      ]
     },
     "execution_count": 38,
     "metadata": {},
     "output_type": "execute_result"
    }
   ],
   "source": [
    "x.shape"
   ]
  },
  {
   "cell_type": "markdown",
   "metadata": {},
   "source": [
    "- Laat het datatype zien\n"
   ]
  },
  {
   "cell_type": "code",
   "execution_count": 39,
   "metadata": {
    "tags": [
     "student"
    ]
   },
   "outputs": [
    {
     "data": {
      "text/plain": [
       "dtype('int64')"
      ]
     },
     "execution_count": 39,
     "metadata": {},
     "output_type": "execute_result"
    }
   ],
   "source": [
    "x.dtype"
   ]
  },
  {
   "cell_type": "markdown",
   "metadata": {},
   "source": [
    "- Sla een kopie van de array op in y\n"
   ]
  },
  {
   "cell_type": "code",
   "execution_count": 40,
   "metadata": {
    "tags": [
     "student"
    ]
   },
   "outputs": [
    {
     "name": "stdout",
     "output_type": "stream",
     "text": [
      "[[0 1 2]\n",
      " [3 4 5]]\n"
     ]
    }
   ],
   "source": [
    "y = x.copy()\n",
    "print(y)"
   ]
  },
  {
   "cell_type": "markdown",
   "metadata": {},
   "source": [
    "- Maak een transpose van x\n",
    "\n"
   ]
  },
  {
   "cell_type": "code",
   "execution_count": 41,
   "metadata": {
    "tags": [
     "student"
    ]
   },
   "outputs": [
    {
     "name": "stdout",
     "output_type": "stream",
     "text": [
      "[[0 3]\n",
      " [1 4]\n",
      " [2 5]]\n"
     ]
    }
   ],
   "source": [
    "x_transpose = np.transpose(x)\n",
    "print(x_transpose)"
   ]
  },
  {
   "cell_type": "markdown",
   "metadata": {},
   "source": [
    "- Maak een transpose van y\n"
   ]
  },
  {
   "cell_type": "code",
   "execution_count": 42,
   "metadata": {
    "tags": [
     "student"
    ]
   },
   "outputs": [
    {
     "name": "stdout",
     "output_type": "stream",
     "text": [
      "[[0 3]\n",
      " [1 4]\n",
      " [2 5]]\n"
     ]
    }
   ],
   "source": [
    "y_transpose = np.transpose(y)\n",
    "print(y_transpose)"
   ]
  },
  {
   "cell_type": "markdown",
   "metadata": {},
   "source": [
    "- Vermenigvuldig alle waarden van y met 2\n"
   ]
  },
  {
   "cell_type": "code",
   "execution_count": 43,
   "metadata": {
    "tags": [
     "student"
    ]
   },
   "outputs": [
    {
     "name": "stdout",
     "output_type": "stream",
     "text": [
      "[[ 0  2  4]\n",
      " [ 6  8 10]]\n"
     ]
    }
   ],
   "source": [
    "y = y*2\n",
    "print(y)"
   ]
  },
  {
   "cell_type": "markdown",
   "metadata": {},
   "source": [
    "- Concateneer de twee arrays in een nieuwe array `z`\n"
   ]
  },
  {
   "cell_type": "code",
   "execution_count": 44,
   "metadata": {
    "tags": [
     "student"
    ]
   },
   "outputs": [
    {
     "name": "stdout",
     "output_type": "stream",
     "text": [
      "[[ 0  1  2]\n",
      " [ 3  4  5]\n",
      " [ 0  2  4]\n",
      " [ 6  8 10]]\n"
     ]
    }
   ],
   "source": [
    "z = np.concatenate([x, y])\n",
    "print(z)"
   ]
  },
  {
   "cell_type": "markdown",
   "metadata": {},
   "source": [
    "- Geef het gemiddelde, modus, mediaan en de standaarddeviatie van z\n"
   ]
  },
  {
   "cell_type": "code",
   "execution_count": 45,
   "metadata": {
    "tags": [
     "student"
    ]
   },
   "outputs": [
    {
     "name": "stdout",
     "output_type": "stream",
     "text": [
      "3.75\n",
      "ModeResult(mode=np.int64(0), count=np.int64(2))\n",
      "2.9755951785595207\n"
     ]
    }
   ],
   "source": [
    "from scipy import stats\n",
    "\n",
    "# Average\n",
    "z_average = np.average(z)\n",
    "\n",
    "# Mode\n",
    "z_mode = stats.mode(z, axis=None)\n",
    "\n",
    "# Standard deviation\n",
    "z_std = np.std(z)\n",
    "\n",
    "print(z_average)\n",
    "print(z_mode)\n",
    "print(z_std)"
   ]
  },
  {
   "cell_type": "markdown",
   "metadata": {
    "tags": []
   },
   "source": [
    "<a id=\"np_opdracht2\"></a>\n",
    "## Opdracht 2\n",
    "**Python list vs. NumPy**"
   ]
  },
  {
   "cell_type": "markdown",
   "metadata": {
    "tags": []
   },
   "source": [
    "- Maak een list `lst` met 1.000.001 willekeurige getallen tussen 0 en 10 (gebruik `random.randint(0, 10)`)\n",
    "- Bepaal de mediaan\n",
    "- Maak een list met daarin het kwadraat van elk element in `lst`\n",
    "- Maak een list met daarin alleen alle even getallen uit `lst`\n",
    "- Maak een tweede list `lst2` met 1.000.001 willekeurige getallen\n",
    "- Maak een list met daarin de som van de elementen uit `lst` en `lst2`, dus:\n",
    "  - `lst_samen[0] = lst[0] + lst2[0]`,\n",
    "  - `lst_samen[1] = lst[1] + lst2[1]`,\n",
    "  - etc.\n",
    "\n",
    "- Doe bovenstaande ook met Numpy\n",
    "\n",
    "- Gebruik `%timeit` voor je code om de snelheid te vergelijken"
   ]
  },
  {
   "cell_type": "code",
   "execution_count": 46,
   "metadata": {
    "tags": []
   },
   "outputs": [],
   "source": [
    "import math\n",
    "import random\n",
    "import timeit\n",
    "import numpy as np"
   ]
  },
  {
   "cell_type": "code",
   "execution_count": 47,
   "metadata": {},
   "outputs": [
    {
     "name": "stdout",
     "output_type": "stream",
     "text": [
      "1.62 s ± 18.8 ms per loop (mean ± std. dev. of 7 runs, 1 loop each)\n",
      "33.2 ms ± 324 μs per loop (mean ± std. dev. of 7 runs, 10 loops each)\n"
     ]
    }
   ],
   "source": [
    "# Not numpy\n",
    "def time_not_numpy():\n",
    "    lst = [random.randint(0, 10) for i in range(0, 1000001)]\n",
    "    median = np.median(lst)\n",
    "    lst_kwadraat = [i ** 2 for i in lst]\n",
    "    lst_even = [i for i in lst if i % 2 == 0]\n",
    "    lst2 = [random.randint(0, 10) for i in range(0, 1000001)]\n",
    "    lst_som = [lst[i] + lst2[i] for i in range(len(lst))]\n",
    "\n",
    "# NumPy\n",
    "def time_numpy():\n",
    "    np_lst = np.random.randint(0, 11, size=1000001)\n",
    "    np_median = np.median(np_lst)\n",
    "    np_lst_kwadraat = np.square(np_lst)\n",
    "    np_lst_even = np_lst[np_lst % 2 == 0]  # Gebruik een true of false mask. lst[lst % 2 == 0]\n",
    "    np_lst2 = np.random.randint(0, 11, size=1000001)\n",
    "    np_lst_som = np_lst + np_lst2\n",
    "\n",
    "%timeit time_not_numpy()\n",
    "%timeit time_numpy()\n"
   ]
  },
  {
   "cell_type": "markdown",
   "metadata": {},
   "source": [
    "<a id=\"np_opdracht3\"></a>\n",
    "## Opdracht 3\n",
    "\n",
    "De blokcoördinator D.O. Cent van blok A  wil graag de cijfers analyseren en verwerken. Het blok bestaat uit 3 vakken, die door 10 studenten gevolgd zijn. Analyse omvat o.a. het bepalen van gemiddelde cijfer, het aantal voldoendes en cursusrendement. De verwerking bestaat uit het corrigeren van de cijfers.\n",
    "\n",
    "In `blokAcijfers.txt` staan de cijfers per vak (naast elkaar staan de vakken, onder elkaar de studenten):\n",
    "\n",
    "vak1 | vak2 | vak3\n",
    "----|-------|------\n",
    "6.5 | 7.3   | 6.4\n",
    "8.0 | 8.0\t| 8.5\n",
    "3.2\t| 4.0\t| 5.0\n",
    "7.9\t| 7.1\t| 3.5\n",
    "7.3\t| 7.8\t| 8.0\n",
    "8.6\t| 8.0\t| 9.0\n",
    "4.0\t| 6.0\t| 5.5\n",
    "7.3\t| 7.8\t| 7.8\n",
    "4.5\t| 5.6\t| 7.7\n",
    "5.0\t| 7.0\t| 7.2\n"
   ]
  },
  {
   "cell_type": "code",
   "execution_count": 48,
   "metadata": {},
   "outputs": [],
   "source": [
    "import numpy as np"
   ]
  },
  {
   "cell_type": "markdown",
   "metadata": {},
   "source": [
    "Start met de data verzamelen:\n",
    "- Lees tekstbestand: blokAcijfers.txt in met `np.loadtxt`, sla de data op in een numpy array met naam `vCijfers`.\n",
    "- Laat zien dat de gegevens goed ingelezen zijn.\n",
    "- Toon de array attributen."
   ]
  },
  {
   "cell_type": "code",
   "execution_count": 49,
   "metadata": {
    "scrolled": true,
    "tags": [
     "student"
    ]
   },
   "outputs": [
    {
     "name": "stdout",
     "output_type": "stream",
     "text": [
      "Dimensions: 2\n",
      "Size: 30\n",
      "Data type: float64\n",
      "Shape: (10, 3)\n",
      "Bit size of items: 8\n",
      "Memory: <memory at 0x000001F42B2E6740>\n"
     ]
    }
   ],
   "source": [
    "vCijfers = np.loadtxt(\"blokAcijfers.txt\")\n",
    "\n",
    "\n",
    "def print_attributes(np_array):\n",
    "    print(f\"Dimensions: {np_array.ndim}\")\n",
    "    print(f\"Size: {np_array.size}\")\n",
    "    print(f\"Data type: {np_array.dtype}\")\n",
    "    print(f\"Shape: {np_array.shape}\")\n",
    "    print(f\"Bit size of items: {np_array.itemsize}\")\n",
    "    print(f\"Memory: {np_array.data}\")\n",
    "\n",
    "\n",
    "print_attributes(vCijfers)\n"
   ]
  },
  {
   "cell_type": "markdown",
   "metadata": {},
   "source": [
    "De docent ziet dat er 2 cijfers fout zijn en wil deze corrigeren\n",
    "-\tWijzig de volgende cijfers:\n",
    "    *\tvak-2, student-3  cijfer 4.0 moet 4.3 worden.\n",
    "    *\tvak-1, student-10, cijfer 5.0 moet 4.8 worden."
   ]
  },
  {
   "cell_type": "code",
   "execution_count": 50,
   "metadata": {
    "tags": [
     "student"
    ]
   },
   "outputs": [
    {
     "name": "stdout",
     "output_type": "stream",
     "text": [
      "4.0\n",
      "5.0\n",
      "4.3\n",
      "4.8\n"
     ]
    }
   ],
   "source": [
    "print(vCijfers[2,1])\n",
    "print(vCijfers[9,0])\n",
    "\n",
    "vCijfers[2,1] = 4.3\n",
    "vCijfers[9,0] = 4.8\n",
    "\n",
    "print(vCijfers[2,1])\n",
    "print(vCijfers[9,0])"
   ]
  },
  {
   "cell_type": "markdown",
   "metadata": {},
   "source": [
    "De docent wil wat basisgegevens weten.\n",
    "-\tBepaal minimum, maximum en gemiddelde van alle cijfers.\n",
    "-\tBepaal minimum, maximum en gemiddelde van elk vak (3 getallen).\n",
    "-\tBepaal minimum, maximum en gemiddelde van elke student (10 getallen)."
   ]
  },
  {
   "cell_type": "code",
   "execution_count": 51,
   "metadata": {
    "tags": [
     "student"
    ]
   },
   "outputs": [
    {
     "name": "stdout",
     "output_type": "stream",
     "text": [
      "3.2\n",
      "9.0\n",
      "6.653333333333333\n",
      "\n",
      "         Vak1  Vak2  Vak3\n",
      "minimum  3.20  4.30  3.50\n",
      "maximum  8.60  8.00  9.00\n",
      "average  6.21  6.89  6.86\n",
      "               S1        S2        S3        S4   S5        S6        S7  \\\n",
      "minimum  6.400000  8.000000  3.200000  3.500000  7.3  8.000000  4.000000   \n",
      "maximum  7.300000  8.500000  5.000000  7.900000  8.0  9.000000  6.000000   \n",
      "average  6.733333  8.166667  4.166667  6.166667  7.7  8.533333  5.166667   \n",
      "\n",
      "               S8        S9       S10  \n",
      "minimum  7.300000  4.500000  4.800000  \n",
      "maximum  7.800000  7.700000  7.200000  \n",
      "average  7.633333  5.933333  6.333333  \n"
     ]
    }
   ],
   "source": [
    "import pandas\n",
    "\n",
    "# Full array\n",
    "print(np.min(vCijfers))\n",
    "print(np.max(vCijfers))\n",
    "print(np.average(vCijfers))\n",
    "print()\n",
    "\n",
    "# Per subject\n",
    "subject_headers_columns = [\"Vak1\", \"Vak2\", \"Vak3\"]\n",
    "subject_headers_rows = [\"minimum\", \"maximum\", \"average\"]\n",
    "subject_data = [[np.min(vCijfers[:, 0]), np.min(vCijfers[:, 1]), np.min(vCijfers[:, 2])], \n",
    "                [np.max(vCijfers[:, 0]), np.max(vCijfers[:, 1]), np.max(vCijfers[:, 2])],\n",
    "                [np.average(vCijfers[:, 0]), np.average(vCijfers[:, 1]), np.average(vCijfers[:, 2])]]\n",
    "print(pandas.DataFrame(subject_data, subject_headers_rows, subject_headers_columns))\n",
    "\n",
    "# Per student\n",
    "student_headers_columns = [\"S1\", \"S2\", \"S3\", \"S4\", \"S5\", \"S6\", \"S7\", \"S8\", \"S9\", \"S10\"]\n",
    "student_headers_rows = [\"minimum\", \"maximum\", \"average\"]\n",
    "student_data = [[np.min(vCijfers[0, :]), np.min(vCijfers[1, :]), np.min(vCijfers[2, :]), np.min(vCijfers[3, :]), np.min(vCijfers[4, :]), np.min(vCijfers[5, :]), np.min(vCijfers[6, :]), np.min(vCijfers[7, :]), np.min(vCijfers[8, :]), np.min(vCijfers[9, :])], \n",
    "                [np.max(vCijfers[0, :]), np.max(vCijfers[1, :]), np.max(vCijfers[2, :]), np.max(vCijfers[3, :]), np.max(vCijfers[4, :]), np.max(vCijfers[5, :]), np.max(vCijfers[6, :]), np.max(vCijfers[7, :]), np.max(vCijfers[8, :]), np.max(vCijfers[9, :])],\n",
    "                [np.average(vCijfers[0, :]), np.average(vCijfers[1, :]), np.average(vCijfers[2, :]), np.average(vCijfers[3, :]), np.average(vCijfers[4, :]), np.average(vCijfers[5, :]), np.average(vCijfers[6, :]), np.average(vCijfers[7, :]), np.average(vCijfers[8, :]), np.average(vCijfers[9, :])]]\n",
    "print(pandas.DataFrame(student_data, student_headers_rows, student_headers_columns))\n"
   ]
  },
  {
   "cell_type": "markdown",
   "metadata": {},
   "source": [
    "De docent wil graag zien wat de cijfers zijn als ze afgerond worden op hele getallen.\n",
    "-\tKopieer de array naar een nieuwe array.\n",
    "-\tRond de waarden af.\n",
    "-\tLaat de resultaten zien."
   ]
  },
  {
   "cell_type": "code",
   "execution_count": 52,
   "metadata": {
    "tags": [
     "student"
    ]
   },
   "outputs": [
    {
     "name": "stdout",
     "output_type": "stream",
     "text": [
      "[[6.5 7.3 6.4]\n",
      " [8.  8.  8.5]\n",
      " [3.2 4.3 5. ]\n",
      " [7.9 7.1 3.5]\n",
      " [7.3 7.8 8. ]\n",
      " [8.6 8.  9. ]\n",
      " [4.  6.  5.5]\n",
      " [7.3 7.8 7.8]\n",
      " [4.5 5.6 7.7]\n",
      " [4.8 7.  7.2]]\n",
      "[[6. 7. 6.]\n",
      " [8. 8. 8.]\n",
      " [3. 4. 5.]\n",
      " [8. 7. 4.]\n",
      " [7. 8. 8.]\n",
      " [9. 8. 9.]\n",
      " [4. 6. 6.]\n",
      " [7. 8. 8.]\n",
      " [4. 6. 8.]\n",
      " [5. 7. 7.]]\n"
     ]
    }
   ],
   "source": [
    "vCijfers_rounded = vCijfers.copy()\n",
    "vCijfers_rounded = np.round(vCijfers_rounded)\n",
    "\n",
    "print(vCijfers)\n",
    "print(vCijfers_rounded)"
   ]
  },
  {
   "cell_type": "markdown",
   "metadata": {},
   "source": [
    "Er is een fout gemaakt bij de cijfers van het 1e vak. Iedere student krijgt 0.5 punt extra erbij.\n",
    "-\tVul een ‘ophoogarray’ bestaande uit 3 kolommen en elk 10 rijen en vul deze eerst met 0.0 en daarna de eerste rij met de waarden 0.5.\n",
    "-\tTel de ophoogarray op bij de cijfer array."
   ]
  },
  {
   "cell_type": "code",
   "execution_count": 53,
   "metadata": {
    "tags": [
     "student"
    ]
   },
   "outputs": [
    {
     "name": "stdout",
     "output_type": "stream",
     "text": [
      "[[7.  7.3 6.4]\n",
      " [8.5 8.  8.5]\n",
      " [3.7 4.3 5. ]\n",
      " [8.4 7.1 3.5]\n",
      " [7.8 7.8 8. ]\n",
      " [9.1 8.  9. ]\n",
      " [4.5 6.  5.5]\n",
      " [7.8 7.8 7.8]\n",
      " [5.  5.6 7.7]\n",
      " [5.3 7.  7.2]]\n"
     ]
    }
   ],
   "source": [
    "ophoogarray = np.zeros(vCijfers.shape)\n",
    "ophoogarray[:, 0] = 0.5\n",
    "vCijfers += ophoogarray\n",
    "print(vCijfers)"
   ]
  },
  {
   "cell_type": "markdown",
   "metadata": {},
   "source": [
    "De docent wil een lijstje waarin hij in één opslag ziet waar een voldoende (`True`) en waar een onvoldoende (`False`) staat.  \n",
    "-\tMaakt dit lijstje."
   ]
  },
  {
   "cell_type": "code",
   "execution_count": 54,
   "metadata": {
    "tags": [
     "student"
    ]
   },
   "outputs": [
    {
     "name": "stdout",
     "output_type": "stream",
     "text": [
      "[[ True  True  True]\n",
      " [ True  True  True]\n",
      " [False False False]\n",
      " [ True  True False]\n",
      " [ True  True  True]\n",
      " [ True  True  True]\n",
      " [False  True False]\n",
      " [ True  True  True]\n",
      " [False  True  True]\n",
      " [False  True  True]]\n"
     ]
    }
   ],
   "source": [
    "voldoende_lijst = (vCijfers > 5.5)\n",
    "print(voldoende_lijst)"
   ]
  },
  {
   "cell_type": "markdown",
   "metadata": {},
   "source": [
    "<a id=\"np_opdracht4\"></a>\n",
    "## Opdracht 4\n",
    "**Deze opdracht is facultatief**"
   ]
  },
  {
   "cell_type": "code",
   "execution_count": 55,
   "metadata": {},
   "outputs": [],
   "source": [
    "import numpy as np"
   ]
  },
  {
   "cell_type": "markdown",
   "metadata": {},
   "source": [
    "#### 3. Create a null vector of size 10"
   ]
  },
  {
   "cell_type": "code",
   "execution_count": 56,
   "metadata": {
    "tags": [
     "student"
    ]
   },
   "outputs": [
    {
     "name": "stdout",
     "output_type": "stream",
     "text": [
      "[0. 0. 0. 0. 0. 0. 0. 0. 0. 0.]\n"
     ]
    }
   ],
   "source": [
    "vector1 = np.zeros((10))\n",
    "print(vector1)"
   ]
  },
  {
   "cell_type": "markdown",
   "metadata": {},
   "source": [
    "#### 6.  Create a null vector of size 10 but the fifth value which is 1"
   ]
  },
  {
   "cell_type": "code",
   "execution_count": 57,
   "metadata": {
    "tags": [
     "student"
    ]
   },
   "outputs": [
    {
     "name": "stdout",
     "output_type": "stream",
     "text": [
      "[0. 0. 0. 0. 1. 0. 0. 0. 0. 0.]\n"
     ]
    }
   ],
   "source": [
    "vector2 = np.zeros((10))\n",
    "vector2[4] = 1\n",
    "print(vector2)"
   ]
  },
  {
   "cell_type": "markdown",
   "metadata": {},
   "source": [
    "#### 8.  Reverse a vector with values ranging from 10 to 49 (first element becomes last)"
   ]
  },
  {
   "cell_type": "code",
   "execution_count": 58,
   "metadata": {
    "tags": [
     "student"
    ]
   },
   "outputs": [
    {
     "name": "stdout",
     "output_type": "stream",
     "text": [
      "[49 48 47 46 45 44 43 42 41 40 39 38 37 36 35 34 33 32 31 30 29 28 27 26\n",
      " 25 24 23 22 21 20 19 18 17 16 15 14 13 12 11 10]\n"
     ]
    }
   ],
   "source": [
    "vector3 = np.arange(10, 50)\n",
    "vector3 = np.flip(vector3)\n",
    "print(vector3)"
   ]
  },
  {
   "cell_type": "markdown",
   "metadata": {},
   "source": [
    "#### 9.  Create a 3x3 matrix with values ranging from 0 to 8"
   ]
  },
  {
   "cell_type": "code",
   "execution_count": 59,
   "metadata": {
    "tags": [
     "student"
    ]
   },
   "outputs": [
    {
     "name": "stdout",
     "output_type": "stream",
     "text": [
      "[[4 5 5]\n",
      " [3 1 4]\n",
      " [2 0 1]]\n"
     ]
    }
   ],
   "source": [
    "vector4 = np.random.randint(0, 9, (3, 3))\n",
    "print(vector4)"
   ]
  },
  {
   "cell_type": "markdown",
   "metadata": {},
   "source": [
    "#### 10. Find indices of non-zero elements from \\[1,2,0,0,4,0\\]"
   ]
  },
  {
   "cell_type": "code",
   "execution_count": 60,
   "metadata": {
    "tags": [
     "student"
    ]
   },
   "outputs": [
    {
     "name": "stdout",
     "output_type": "stream",
     "text": [
      "[[0]\n",
      " [1]\n",
      " [4]]\n"
     ]
    }
   ],
   "source": [
    "vector5 = np.array([1,2,0,0,4,0])\n",
    "print(np.argwhere(vector5 > 0))"
   ]
  },
  {
   "cell_type": "markdown",
   "metadata": {},
   "source": [
    "#### 11. Create a 3x3 identity matrix"
   ]
  },
  {
   "cell_type": "code",
   "execution_count": 61,
   "metadata": {
    "tags": [
     "student"
    ]
   },
   "outputs": [
    {
     "name": "stdout",
     "output_type": "stream",
     "text": [
      "[[1. 0. 0.]\n",
      " [0. 1. 0.]\n",
      " [0. 0. 1.]]\n"
     ]
    }
   ],
   "source": [
    "vector6 = np.eye(3, 3)\n",
    "print(vector6)"
   ]
  },
  {
   "cell_type": "markdown",
   "metadata": {},
   "source": [
    "#### 13. Create a 10x10 array with random values and find the minimum and maximum values"
   ]
  },
  {
   "cell_type": "code",
   "execution_count": 62,
   "metadata": {
    "tags": [
     "student"
    ]
   },
   "outputs": [
    {
     "name": "stdout",
     "output_type": "stream",
     "text": [
      "0\n",
      "9\n"
     ]
    }
   ],
   "source": [
    "vector7 = np.random.randint(0, 10, (10, 10))\n",
    "print(np.min(vector7))\n",
    "print(np.max(vector7))"
   ]
  },
  {
   "cell_type": "markdown",
   "metadata": {},
   "source": [
    "#### 15. Create a 2d array with 1 on the border and 0 inside"
   ]
  },
  {
   "cell_type": "code",
   "execution_count": 63,
   "metadata": {
    "tags": [
     "student"
    ]
   },
   "outputs": [
    {
     "name": "stdout",
     "output_type": "stream",
     "text": [
      "[[1. 1. 1. 1. 1.]\n",
      " [1. 0. 0. 0. 1.]\n",
      " [1. 0. 0. 0. 1.]\n",
      " [1. 0. 0. 0. 1.]\n",
      " [1. 1. 1. 1. 1.]]\n"
     ]
    }
   ],
   "source": [
    "def ones_border(shape):\n",
    "    vector8 = np.ones(shape)\n",
    "    vector8[1:-1, 1:-1] = 0\n",
    "    return vector8\n",
    "\n",
    "print(ones_border((5,5)))"
   ]
  },
  {
   "cell_type": "markdown",
   "metadata": {},
   "source": [
    "#### 19. Create a 8x8 matrix and fill it with a checkerboard pattern"
   ]
  },
  {
   "cell_type": "code",
   "execution_count": 64,
   "metadata": {
    "tags": [
     "student"
    ]
   },
   "outputs": [
    {
     "name": "stdout",
     "output_type": "stream",
     "text": [
      "[[0 1 0 1 0 1 0 1]\n",
      " [1 0 1 0 1 0 1 0]\n",
      " [0 1 0 1 0 1 0 1]\n",
      " [1 0 1 0 1 0 1 0]\n",
      " [0 1 0 1 0 1 0 1]\n",
      " [1 0 1 0 1 0 1 0]\n",
      " [0 1 0 1 0 1 0 1]\n",
      " [1 0 1 0 1 0 1 0]]\n",
      "\n",
      "(8, 8)\n"
     ]
    }
   ],
   "source": [
    "def checkboard():\n",
    "    tile = [[0, 1], [1, 0]]\n",
    "    vector9 = np.tile(tile, (4,4))\n",
    "    return vector9\n",
    "\n",
    "board = checkboard()\n",
    "print(board)\n",
    "print()\n",
    "print(board.shape)\n"
   ]
  },
  {
   "cell_type": "markdown",
   "metadata": {},
   "source": [
    "#### 25. Given a 1D array, negate all elements which are between 3 and 8, in place."
   ]
  },
  {
   "cell_type": "code",
   "execution_count": 71,
   "metadata": {
    "tags": [
     "student"
    ]
   },
   "outputs": [
    {
     "name": "stdout",
     "output_type": "stream",
     "text": [
      "[ 2  2  2 -4  2  1  0 -6  2 -7  3 -5  3  2  0  8 -7  8 -6  0]\n"
     ]
    }
   ],
   "source": [
    "vector10 = np.random.randint(0, 10, (20))\n",
    "vector10[(vector10 < 8) & (vector10 > 3)] *= -1\n",
    "print(vector10)"
   ]
  },
  {
   "cell_type": "markdown",
   "metadata": {},
   "source": [
    "#### 29. How to round away from zero a float array ?"
   ]
  },
  {
   "cell_type": "code",
   "execution_count": null,
   "metadata": {
    "tags": [
     "student"
    ]
   },
   "outputs": [],
   "source": []
  },
  {
   "cell_type": "markdown",
   "metadata": {},
   "source": [
    "#### 30. How to find common values between two arrays?"
   ]
  },
  {
   "cell_type": "code",
   "execution_count": null,
   "metadata": {
    "tags": [
     "student"
    ]
   },
   "outputs": [],
   "source": []
  },
  {
   "cell_type": "markdown",
   "metadata": {},
   "source": [
    "#### 36. Extract the integer part of a random array using 5 different methods"
   ]
  },
  {
   "cell_type": "code",
   "execution_count": 135,
   "metadata": {},
   "outputs": [],
   "source": [
    "Z = np.random.uniform(0,10,10)"
   ]
  },
  {
   "cell_type": "code",
   "execution_count": null,
   "metadata": {
    "tags": [
     "student"
    ]
   },
   "outputs": [],
   "source": []
  },
  {
   "cell_type": "markdown",
   "metadata": {},
   "source": [
    "#### 37. Create a 5x5 matrix with row values ranging from 0 to 4"
   ]
  },
  {
   "cell_type": "code",
   "execution_count": null,
   "metadata": {
    "tags": [
     "student"
    ]
   },
   "outputs": [],
   "source": []
  },
  {
   "cell_type": "markdown",
   "metadata": {},
   "source": [
    "#### 39. Create a vector of size 10 with values ranging from 0 to 1, both excluded"
   ]
  },
  {
   "cell_type": "code",
   "execution_count": null,
   "metadata": {
    "tags": [
     "student"
    ]
   },
   "outputs": [],
   "source": []
  },
  {
   "cell_type": "markdown",
   "metadata": {},
   "source": [
    "#### 40. Create a random vector of size 10 and sort it"
   ]
  },
  {
   "cell_type": "code",
   "execution_count": null,
   "metadata": {
    "tags": [
     "student"
    ]
   },
   "outputs": [],
   "source": []
  },
  {
   "cell_type": "markdown",
   "metadata": {},
   "source": [
    "#### 42. Consider two random array A and B, check if they are equal"
   ]
  },
  {
   "cell_type": "code",
   "execution_count": null,
   "metadata": {
    "tags": [
     "student"
    ]
   },
   "outputs": [],
   "source": []
  },
  {
   "cell_type": "markdown",
   "metadata": {},
   "source": [
    "#### 45. Create random vector of size 10 and replace the maximum value by 0"
   ]
  },
  {
   "cell_type": "code",
   "execution_count": null,
   "metadata": {
    "tags": [
     "student"
    ]
   },
   "outputs": [],
   "source": []
  },
  {
   "cell_type": "markdown",
   "metadata": {},
   "source": [
    "#### 50. How to find the closest value (to a given scalar) in a vector?"
   ]
  },
  {
   "cell_type": "code",
   "execution_count": 136,
   "metadata": {},
   "outputs": [],
   "source": [
    "v = np.random.uniform(0,100)"
   ]
  },
  {
   "cell_type": "code",
   "execution_count": null,
   "metadata": {
    "tags": [
     "student"
    ]
   },
   "outputs": [],
   "source": []
  },
  {
   "cell_type": "markdown",
   "metadata": {},
   "source": [
    "#### 52. Consider a random vector with shape (10,2) representing coordinates, find point by point distances"
   ]
  },
  {
   "cell_type": "code",
   "execution_count": 137,
   "metadata": {},
   "outputs": [],
   "source": [
    "Z = np.random.random((10,2))\n"
   ]
  },
  {
   "cell_type": "code",
   "execution_count": null,
   "metadata": {
    "tags": [
     "student"
    ]
   },
   "outputs": [],
   "source": []
  },
  {
   "cell_type": "markdown",
   "metadata": {},
   "source": [
    "#### 57. How to randomly place p elements in a 2D array?"
   ]
  },
  {
   "cell_type": "code",
   "execution_count": null,
   "metadata": {
    "tags": [
     "student"
    ]
   },
   "outputs": [],
   "source": []
  },
  {
   "cell_type": "markdown",
   "metadata": {},
   "source": [
    "#### 58. Subtract the mean of each row of a matrix"
   ]
  },
  {
   "cell_type": "code",
   "execution_count": null,
   "metadata": {
    "tags": [
     "student"
    ]
   },
   "outputs": [],
   "source": []
  },
  {
   "cell_type": "markdown",
   "metadata": {},
   "source": [
    "#### 59. How to sort an array by the nth column?"
   ]
  },
  {
   "cell_type": "code",
   "execution_count": null,
   "metadata": {
    "tags": [
     "student"
    ]
   },
   "outputs": [],
   "source": []
  },
  {
   "cell_type": "markdown",
   "metadata": {},
   "source": [
    "#### 60. How to tell if a given 2D array has null columns?"
   ]
  },
  {
   "cell_type": "code",
   "execution_count": null,
   "metadata": {
    "tags": [
     "student"
    ]
   },
   "outputs": [],
   "source": []
  },
  {
   "cell_type": "markdown",
   "metadata": {},
   "source": [
    "#### 61. Find the nearest value from a given value in an array"
   ]
  },
  {
   "cell_type": "code",
   "execution_count": 138,
   "metadata": {},
   "outputs": [],
   "source": [
    "Z = np.random.uniform(0,1,10)\n",
    "z = 0.5"
   ]
  },
  {
   "cell_type": "code",
   "execution_count": null,
   "metadata": {
    "tags": [
     "student"
    ]
   },
   "outputs": [],
   "source": []
  },
  {
   "cell_type": "markdown",
   "metadata": {},
   "source": [
    "#### 70. Consider the vector \\[1, 2, 3, 4, 5\\], how to build a new vector with 3 consecutive zeros interleaved between each value?"
   ]
  },
  {
   "cell_type": "code",
   "execution_count": null,
   "metadata": {
    "tags": [
     "student"
    ]
   },
   "outputs": [],
   "source": []
  },
  {
   "cell_type": "markdown",
   "metadata": {},
   "source": [
    "#### 72. How to swap two rows of an array?"
   ]
  },
  {
   "cell_type": "code",
   "execution_count": null,
   "metadata": {
    "tags": [
     "student"
    ]
   },
   "outputs": [],
   "source": []
  },
  {
   "cell_type": "markdown",
   "metadata": {},
   "source": [
    "#### 77. How to negate a boolean, or to change the sign of a float inplace?"
   ]
  },
  {
   "cell_type": "code",
   "execution_count": null,
   "metadata": {
    "tags": [
     "student"
    ]
   },
   "outputs": [],
   "source": []
  },
  {
   "cell_type": "markdown",
   "metadata": {},
   "source": [
    "#### 83. How to find the most frequent value in an array?"
   ]
  },
  {
   "cell_type": "code",
   "execution_count": null,
   "metadata": {
    "tags": [
     "student"
    ]
   },
   "outputs": [],
   "source": []
  },
  {
   "cell_type": "markdown",
   "metadata": {},
   "source": [
    "#### 89. How to get the n largest values of an array"
   ]
  },
  {
   "cell_type": "code",
   "execution_count": null,
   "metadata": {
    "tags": [
     "student"
    ]
   },
   "outputs": [],
   "source": []
  }
 ],
 "metadata": {
  "celltoolbar": "Tags",
  "kernelspec": {
   "display_name": "Python 3 (ipykernel)",
   "language": "python",
   "name": "python3"
  },
  "language_info": {
   "codemirror_mode": {
    "name": "ipython",
    "version": 3
   },
   "file_extension": ".py",
   "mimetype": "text/x-python",
   "name": "python",
   "nbconvert_exporter": "python",
   "pygments_lexer": "ipython3",
   "version": "3.12.3"
  }
 },
 "nbformat": 4,
 "nbformat_minor": 4
}
