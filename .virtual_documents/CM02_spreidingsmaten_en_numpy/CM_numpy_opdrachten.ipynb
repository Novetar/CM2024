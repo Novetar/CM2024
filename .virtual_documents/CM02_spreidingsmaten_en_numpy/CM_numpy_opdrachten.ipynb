





import numpy as np





x = np.array([0, 1, 2, 3, 4, 5])
print(x)

# or
y = np.arange(0, 6)
print(y)





print(x.shape)

# or
print(x.ndim)





x = x.reshape(2, 3)
print(x)





x.shape





x.dtype





y = x.copy()
print(y)





x_transpose = np.transpose(x)
print(x_transpose)





y_transpose = np.transpose(y)
print(y_transpose)





y = y*2
print(y)





z = np.concatenate([x, y])
print(z)





from scipy import stats

# Average
z_average = np.average(z)

# Mode
z_mode = stats.mode(z, axis=None)

# Standard deviation
z_std = np.std(z)

print(z_average)
print(z_mode)
print(z_std)








import math
import random
import numpy as np








import numpy as np















































import numpy as np













































































Z = np.random.uniform(0,10,10)






































v = np.random.uniform(0,100)








Z = np.random.random((10,2))

































Z = np.random.uniform(0,1,10)
z = 0.5

































