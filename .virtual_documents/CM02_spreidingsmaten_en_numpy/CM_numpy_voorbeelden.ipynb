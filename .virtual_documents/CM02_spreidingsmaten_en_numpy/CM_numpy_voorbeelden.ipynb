





# gebruik library
import numpy as np


# Gebruik np.<TAB><TAB> voor documentatie





# aanmaken van Arrays
# uit een Python List
np1 = np.array([1,4,2,5,3])
print(np1)


# uit een range definitie
np2 = np.arange(0,20,2)  # van 0 tot 20 per 2
np2


# meerdere dimensions random gevuld
np.random.seed(0)  # seed for reproducibility

x1 = np.random.randint(10, size=6)  # One-dimensional array
x2 = np.random.randint(10, size=(3, 4))  # Two-dimensional array
x3 = np.random.randint(10, size=(3, 4, 5))  # Three-dimensional array
print(x1); print(x2); print(x3)





x = np.array(([5, 10, 15], [4, 14, 24], [3, 11, 19]))
x


x[:,1] # alle rijen, 2e kolom


x[1,:] # tweede rij, alle kolommen



x[:2,1:]  # 1e en 2e rij, vanaf 2e kolom





x = np.array(([10,20,30], [40,50,60]))
y = np.array(([1,2,3], [4,5,6]))
print(x); print(y)


# Vergelijking tussen 2 arrays
print(x>y)


# Berekenen met 'enkel' getal
print(x*2)


# UFunc: universele functies op alle elemementen
print(np.multiply(x,2))


# Aggregatie functies
print(np.min(x))


print(np.sum(x))





z = np.array(([15,20,35], [45,50,55]))
x<z


x[x<z]


# Einde
